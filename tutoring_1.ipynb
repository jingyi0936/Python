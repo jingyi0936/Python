{
  "nbformat": 4,
  "nbformat_minor": 0,
  "metadata": {
    "colab": {
      "name": "tutoring_1.ipynb",
      "provenance": [],
      "collapsed_sections": [],
      "include_colab_link": true
    },
    "kernelspec": {
      "name": "python3",
      "display_name": "Python 3"
    },
    "language_info": {
      "name": "python"
    }
  },
  "cells": [
    {
      "cell_type": "markdown",
      "metadata": {
        "id": "view-in-github",
        "colab_type": "text"
      },
      "source": [
        "<a href=\"https://colab.research.google.com/github/jingyi0936/Python/blob/main/tutoring_1.ipynb\" target=\"_parent\"><img src=\"https://colab.research.google.com/assets/colab-badge.svg\" alt=\"Open In Colab\"/></a>"
      ]
    },
    {
      "cell_type": "markdown",
      "metadata": {
        "id": "RKXrJIkzCka0"
      },
      "source": [
        "# 1. Python is a calculator \n",
        "\n",
        "运算法则 和数学很相似，加减乘除根号log等\n",
        "\n",
        "记得括号的运用\n"
      ]
    },
    {
      "cell_type": "code",
      "metadata": {
        "id": "VcQKhSXWrZVz"
      },
      "source": [
        "4 + 2"
      ],
      "execution_count": null,
      "outputs": []
    },
    {
      "cell_type": "code",
      "metadata": {
        "colab": {
          "base_uri": "https://localhost:8080/"
        },
        "id": "SVWu8qo6Ctop",
        "outputId": "31f010fe-7110-4ecf-f326-45a3cd68412e"
      },
      "source": [
        "4 / 2"
      ],
      "execution_count": null,
      "outputs": [
        {
          "output_type": "execute_result",
          "data": {
            "text/plain": [
              "2.0"
            ]
          },
          "metadata": {
            "tags": []
          },
          "execution_count": 2
        }
      ]
    },
    {
      "cell_type": "markdown",
      "metadata": {
        "id": "9ZzU2mZsExst"
      },
      "source": [
        "# Variable\n",
        "\n",
        "注意新值cover旧值\n",
        "\n",
        "一个等号代表赋值 \n",
        "\n",
        "x = y代表右边y的值赋予给左面x\n",
        "\n",
        "y的值可以是integer/float/string/boolean"
      ]
    },
    {
      "cell_type": "code",
      "metadata": {
        "id": "AYIPVY7lE04e"
      },
      "source": [
        "# 2 is given to x\n",
        "x = 2"
      ],
      "execution_count": null,
      "outputs": []
    },
    {
      "cell_type": "code",
      "metadata": {
        "id": "LNEYViBfFCGR"
      },
      "source": [
        "# the value of x is given to y, which means y = 2 now\n",
        "y = x "
      ],
      "execution_count": null,
      "outputs": []
    },
    {
      "cell_type": "code",
      "metadata": {
        "id": "NvH5wE8DFHuB"
      },
      "source": [
        "# the value of x + 1, which is 3, is now given to z\n",
        "z = x + 1"
      ],
      "execution_count": null,
      "outputs": []
    },
    {
      "cell_type": "code",
      "metadata": {
        "id": "lU1KfmZ0GAw8"
      },
      "source": [
        "# 5 now is given to x <-> x is now equal to 5, rather than 2\n",
        "x = 5"
      ],
      "execution_count": null,
      "outputs": []
    },
    {
      "cell_type": "code",
      "metadata": {
        "colab": {
          "base_uri": "https://localhost:8080/"
        },
        "id": "9Vd7Q6hMGA5j",
        "outputId": "2bea295a-4eb2-4b54-8787-450c5ae9064e"
      },
      "source": [
        "# print the value of y and z\n",
        "print(y) # y is 3, because the change of x from 2 to 5 does not affect y\n",
        "print(z)"
      ],
      "execution_count": null,
      "outputs": [
        {
          "output_type": "stream",
          "text": [
            "2\n",
            "3\n"
          ],
          "name": "stdout"
        }
      ]
    },
    {
      "cell_type": "markdown",
      "metadata": {
        "id": "h0USPryYInP_"
      },
      "source": [
        "Conditonals\n",
        "\n",
        "Boolean Type = True or False\n",
        "\n",
        "1. T and T = T\n",
        "\n",
        "2. T and F = F\n",
        "\n",
        "3. T or F = T\n",
        "\n",
        "4. T or T = T"
      ]
    },
    {
      "cell_type": "code",
      "metadata": {
        "colab": {
          "base_uri": "https://localhost:8080/"
        },
        "id": "NnnGC4xKI3ea",
        "outputId": "060bfebd-ee51-4cbd-9792-3a11498e7073"
      },
      "source": [
        "22 > 4"
      ],
      "execution_count": null,
      "outputs": [
        {
          "output_type": "execute_result",
          "data": {
            "text/plain": [
              "True"
            ]
          },
          "metadata": {
            "tags": []
          },
          "execution_count": 14
        }
      ]
    },
    {
      "cell_type": "code",
      "metadata": {
        "colab": {
          "base_uri": "https://localhost:8080/"
        },
        "id": "D-hWpfu_JLEf",
        "outputId": "11570aa7-71b4-4d46-c7c5-8e97b5540d65"
      },
      "source": [
        "22 <= 4"
      ],
      "execution_count": null,
      "outputs": [
        {
          "output_type": "execute_result",
          "data": {
            "text/plain": [
              "False"
            ]
          },
          "metadata": {
            "tags": []
          },
          "execution_count": 15
        }
      ]
    },
    {
      "cell_type": "code",
      "metadata": {
        "colab": {
          "base_uri": "https://localhost:8080/"
        },
        "id": "bHe-ZVkPJLM7",
        "outputId": "c45f804e-018f-4038-c667-98899f37ff9d"
      },
      "source": [
        "2 == 3"
      ],
      "execution_count": null,
      "outputs": [
        {
          "output_type": "execute_result",
          "data": {
            "text/plain": [
              "False"
            ]
          },
          "metadata": {
            "tags": []
          },
          "execution_count": 16
        }
      ]
    },
    {
      "cell_type": "code",
      "metadata": {
        "id": "cbkCLt_VJzij"
      },
      "source": [
        "x = 100"
      ],
      "execution_count": null,
      "outputs": []
    },
    {
      "cell_type": "code",
      "metadata": {
        "colab": {
          "base_uri": "https://localhost:8080/"
        },
        "id": "B9AAwilnJ0jZ",
        "outputId": "45a465d3-eed2-4eda-de1c-4a408d89f490"
      },
      "source": [
        "x > 30"
      ],
      "execution_count": null,
      "outputs": [
        {
          "output_type": "execute_result",
          "data": {
            "text/plain": [
              "True"
            ]
          },
          "metadata": {
            "tags": []
          },
          "execution_count": 19
        }
      ]
    },
    {
      "cell_type": "code",
      "metadata": {
        "colab": {
          "base_uri": "https://localhost:8080/"
        },
        "id": "ZT1IbWHeKAOz",
        "outputId": "460add7c-93e5-4d6c-b465-b0ea9a258a9d"
      },
      "source": [
        "not True"
      ],
      "execution_count": null,
      "outputs": [
        {
          "output_type": "execute_result",
          "data": {
            "text/plain": [
              "False"
            ]
          },
          "metadata": {
            "tags": []
          },
          "execution_count": 17
        }
      ]
    },
    {
      "cell_type": "code",
      "metadata": {
        "colab": {
          "base_uri": "https://localhost:8080/"
        },
        "id": "Jjy_HrWeKBdo",
        "outputId": "757b45b5-a503-413b-ce9c-cf179e94d8b1"
      },
      "source": [
        "not (x < 29)"
      ],
      "execution_count": null,
      "outputs": [
        {
          "output_type": "execute_result",
          "data": {
            "text/plain": [
              "True"
            ]
          },
          "metadata": {
            "tags": []
          },
          "execution_count": 20
        }
      ]
    },
    {
      "cell_type": "code",
      "metadata": {
        "colab": {
          "base_uri": "https://localhost:8080/"
        },
        "id": "XnD7TmdDKEA8",
        "outputId": "0674be58-d831-4e33-a22b-df8ad256d417"
      },
      "source": [
        "3 < 4 and 6 < 90"
      ],
      "execution_count": null,
      "outputs": [
        {
          "output_type": "execute_result",
          "data": {
            "text/plain": [
              "True"
            ]
          },
          "metadata": {
            "tags": []
          },
          "execution_count": 21
        }
      ]
    },
    {
      "cell_type": "code",
      "metadata": {
        "colab": {
          "base_uri": "https://localhost:8080/"
        },
        "id": "n3GdGU9uKnlU",
        "outputId": "00073a09-7c75-448b-88c7-4d9c7630708c"
      },
      "source": [
        "3 > 5 and 6 < 90"
      ],
      "execution_count": null,
      "outputs": [
        {
          "output_type": "execute_result",
          "data": {
            "text/plain": [
              "False"
            ]
          },
          "metadata": {
            "tags": []
          },
          "execution_count": 22
        }
      ]
    },
    {
      "cell_type": "code",
      "metadata": {
        "colab": {
          "base_uri": "https://localhost:8080/"
        },
        "id": "Mg5C_7DiKqMt",
        "outputId": "8d2c52dd-d287-4515-be3b-f534c4f55d37"
      },
      "source": [
        "3 < 5 or 7 < 9.5"
      ],
      "execution_count": null,
      "outputs": [
        {
          "output_type": "execute_result",
          "data": {
            "text/plain": [
              "True"
            ]
          },
          "metadata": {
            "tags": []
          },
          "execution_count": 23
        }
      ]
    },
    {
      "cell_type": "code",
      "metadata": {
        "colab": {
          "base_uri": "https://localhost:8080/"
        },
        "id": "rryQ-SaNKqV0",
        "outputId": "5516c229-dc46-404e-d40c-d00ae048c5a0"
      },
      "source": [
        "3 > 5 or 7 < 9.5"
      ],
      "execution_count": null,
      "outputs": [
        {
          "output_type": "execute_result",
          "data": {
            "text/plain": [
              "True"
            ]
          },
          "metadata": {
            "tags": []
          },
          "execution_count": 24
        }
      ]
    },
    {
      "cell_type": "code",
      "metadata": {
        "colab": {
          "base_uri": "https://localhost:8080/"
        },
        "id": "5LvTFO7rL8B3",
        "outputId": "4a16cfee-aec5-45d1-8bd5-add5591ce1dd"
      },
      "source": [
        "temp = 72\n",
        "water_is_liquid = temp > 32 and temp < 212 # water_is_liquid = True and True --> True\n",
        "print(water_is_liquid)"
      ],
      "execution_count": null,
      "outputs": [
        {
          "output_type": "stream",
          "text": [
            "True\n"
          ],
          "name": "stdout"
        }
      ]
    },
    {
      "cell_type": "markdown",
      "metadata": {
        "id": "q3_Voc8lMyuw"
      },
      "source": [
        "# String\n",
        "\n",
        "represents text\n",
        "\n",
        "1. len()\n",
        "Lnegth of a string\n",
        "\n",
        "2. concatenation of a string\n",
        "\"X\" + \"Friday\" \n",
        "\n",
        "3. Determine if a letter is contained in the string\n",
        "\"i\" in \"Friday\""
      ]
    },
    {
      "cell_type": "code",
      "metadata": {
        "colab": {
          "base_uri": "https://localhost:8080/"
        },
        "id": "DD-0L0SFM1ov",
        "outputId": "401e21e0-6231-41a9-b340-c7392bad545f"
      },
      "source": [
        "today = \"Friday\"\n",
        "len(today) # F, r, i, d, a, y. There are six letters"
      ],
      "execution_count": null,
      "outputs": [
        {
          "output_type": "execute_result",
          "data": {
            "text/plain": [
              "6"
            ]
          },
          "metadata": {
            "tags": []
          },
          "execution_count": 30
        }
      ]
    },
    {
      "cell_type": "code",
      "metadata": {
        "colab": {
          "base_uri": "https://localhost:8080/"
        },
        "id": "XQD_xgiuNMLs",
        "outputId": "327c8bbe-f168-43a3-a832-57a961a44658"
      },
      "source": [
        "# x is a variable that stores an integer 100\n",
        "x "
      ],
      "execution_count": null,
      "outputs": [
        {
          "output_type": "execute_result",
          "data": {
            "text/plain": [
              "100"
            ]
          },
          "metadata": {
            "tags": []
          },
          "execution_count": 28
        }
      ]
    },
    {
      "cell_type": "code",
      "metadata": {
        "id": "uGbrdDtzNEHU"
      },
      "source": [
        "# \"x\" now is a string\n",
        "# y is a variable that stores a string\n",
        "y = \"x\" "
      ],
      "execution_count": null,
      "outputs": []
    },
    {
      "cell_type": "code",
      "metadata": {
        "colab": {
          "base_uri": "https://localhost:8080/",
          "height": 35
        },
        "id": "-YZT9dvWN25y",
        "outputId": "a5eb7c89-4a77-417e-d0e5-3b7b71c96fab"
      },
      "source": [
        "# add the string\n",
        "y + today"
      ],
      "execution_count": null,
      "outputs": [
        {
          "output_type": "execute_result",
          "data": {
            "application/vnd.google.colaboratory.intrinsic+json": {
              "type": "string"
            },
            "text/plain": [
              "'xFriday'"
            ]
          },
          "metadata": {
            "tags": []
          },
          "execution_count": 31
        }
      ]
    },
    {
      "cell_type": "code",
      "metadata": {
        "colab": {
          "base_uri": "https://localhost:8080/"
        },
        "id": "sEsFM7UEOX-R",
        "outputId": "3f721509-c628-47c5-974d-5fff6b04ebd7"
      },
      "source": [
        "# determine if i in contained in the variable today, which is \"Friday\"\n",
        "\"i\" in today"
      ],
      "execution_count": null,
      "outputs": [
        {
          "output_type": "execute_result",
          "data": {
            "text/plain": [
              "True"
            ]
          },
          "metadata": {
            "tags": []
          },
          "execution_count": 32
        }
      ]
    },
    {
      "cell_type": "code",
      "metadata": {
        "id": "v3ccaEBVOw2a"
      },
      "source": [
        "\"i\" in \"Friday\" "
      ],
      "execution_count": null,
      "outputs": []
    },
    {
      "cell_type": "markdown",
      "metadata": {
        "id": "Irr4f6uHUe3P"
      },
      "source": [
        "# Conversion of 4 types\n",
        "\n",
        "int, float, string and boolean"
      ]
    },
    {
      "cell_type": "code",
      "metadata": {
        "colab": {
          "base_uri": "https://localhost:8080/"
        },
        "id": "9Rla2lCnPeIC",
        "outputId": "e748ca4c-0bea-4203-eccd-5da354cded88"
      },
      "source": [
        "float(15)"
      ],
      "execution_count": null,
      "outputs": [
        {
          "output_type": "execute_result",
          "data": {
            "text/plain": [
              "15.0"
            ]
          },
          "metadata": {
            "tags": []
          },
          "execution_count": 37
        }
      ]
    },
    {
      "cell_type": "code",
      "metadata": {
        "colab": {
          "base_uri": "https://localhost:8080/",
          "height": 35
        },
        "id": "Eo6un11xQGU2",
        "outputId": "35db98ac-b553-4150-de5e-8bbd523ea685"
      },
      "source": [
        "# convert the integer 15 to a string\n",
        "str(15)"
      ],
      "execution_count": null,
      "outputs": [
        {
          "output_type": "execute_result",
          "data": {
            "application/vnd.google.colaboratory.intrinsic+json": {
              "type": "string"
            },
            "text/plain": [
              "'15'"
            ]
          },
          "metadata": {
            "tags": []
          },
          "execution_count": 38
        }
      ]
    },
    {
      "cell_type": "code",
      "metadata": {
        "colab": {
          "base_uri": "https://localhost:8080/"
        },
        "id": "BCKlvpBqQMHN",
        "outputId": "4340eedd-50e9-48fb-dade-939c067b5e3b"
      },
      "source": [
        "# convert a float number 15.6 into a integer\n",
        "int(15.6)"
      ],
      "execution_count": null,
      "outputs": [
        {
          "output_type": "execute_result",
          "data": {
            "text/plain": [
              "15"
            ]
          },
          "metadata": {
            "tags": []
          },
          "execution_count": 39
        }
      ]
    },
    {
      "cell_type": "code",
      "metadata": {
        "colab": {
          "base_uri": "https://localhost:8080/"
        },
        "id": "SGQtD_xjQTH6",
        "outputId": "4d9cf5b2-675e-4968-c477-468b654c60f5"
      },
      "source": [
        "int(round(15.6))"
      ],
      "execution_count": null,
      "outputs": [
        {
          "output_type": "execute_result",
          "data": {
            "text/plain": [
              "16"
            ]
          },
          "metadata": {
            "tags": []
          },
          "execution_count": 40
        }
      ]
    },
    {
      "cell_type": "code",
      "metadata": {
        "colab": {
          "base_uri": "https://localhost:8080/"
        },
        "id": "lm72K3-4QX_W",
        "outputId": "7c0b287e-8b4a-4235-f2d0-a003ca5ee27c"
      },
      "source": [
        "int(round(15.2))"
      ],
      "execution_count": null,
      "outputs": [
        {
          "output_type": "execute_result",
          "data": {
            "text/plain": [
              "15"
            ]
          },
          "metadata": {
            "tags": []
          },
          "execution_count": 41
        }
      ]
    }
  ]
}