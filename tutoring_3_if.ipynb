{
  "nbformat": 4,
  "nbformat_minor": 0,
  "metadata": {
    "colab": {
      "name": "tutoring_3_if.ipynb",
      "provenance": [],
      "authorship_tag": "ABX9TyNDGQhZzOTP50tAgD867qYB",
      "include_colab_link": true
    },
    "kernelspec": {
      "name": "python3",
      "display_name": "Python 3"
    },
    "language_info": {
      "name": "python"
    }
  },
  "cells": [
    {
      "cell_type": "markdown",
      "metadata": {
        "id": "view-in-github",
        "colab_type": "text"
      },
      "source": [
        "<a href=\"https://colab.research.google.com/github/jingyi0936/Python/blob/main/tutoring_3_if.ipynb\" target=\"_parent\"><img src=\"https://colab.research.google.com/assets/colab-badge.svg\" alt=\"Open In Colab\"/></a>"
      ]
    },
    {
      "cell_type": "markdown",
      "metadata": {
        "id": "k-KsJtg4f8oO"
      },
      "source": [
        "# If \n",
        "\n",
        "Review:\n",
        "\n",
        "for var_name in mylist:\n",
        "  xxxxxxx\n",
        "\n",
        "mylist = range(x, y, z)\n",
        "\n",
        "1.   x: lower limit, inclusive\n",
        "2.   y: upper limit, exclusive\n",
        "3.   z: step\n",
        "\n",
        "range(5) = list[0, 1, 2, 3, 4]\n",
        "\n",
        "range(1, 5) = list[1, 2, 3, 4]\n",
        "\n",
        "range(1, 6, 2) = list[1, 3, 5]\n",
        "\n",
        "\n",
        "Example:\n",
        "\n",
        "element = 5\n",
        "str(element) -> convert an integer to a string\n",
        "\n"
      ]
    },
    {
      "cell_type": "code",
      "metadata": {
        "id": "dPMR5Baafydv"
      },
      "source": [
        "val = -10\n",
        "# calculate absolute value of val\n",
        "if val < 0:\n",
        "  result = -val\n",
        "  print(\"val is negative!\")\n",
        "  print(\"I had to do extra work!\")\n",
        "else:\n",
        "  result = val\n",
        "  print(\"val is positive\")\n",
        "  print(result)\n"
      ],
      "execution_count": null,
      "outputs": []
    },
    {
      "cell_type": "code",
      "metadata": {
        "colab": {
          "base_uri": "https://localhost:8080/"
        },
        "id": "yx0HYFuqvMJ9",
        "outputId": "66f3055f-72b9-4cc0-f9ea-cb92e7fefc6a"
      },
      "source": [
        "val = 5\n",
        "# calculate absolute value of val\n",
        "if val < 0:\n",
        "  result = -val\n",
        "  print(\"val is negative!\")\n",
        "else:\n",
        "  for i in range(val): # range(5): list[0, 1, 2, 3, 4]\n",
        "    print(\"val is positive!\")\n",
        "    result = val\n",
        "print(result)\n"
      ],
      "execution_count": 1,
      "outputs": [
        {
          "output_type": "stream",
          "text": [
            "val is positive!\n",
            "val is positive!\n",
            "val is positive!\n",
            "val is positive!\n",
            "val is positive!\n",
            "5\n"
          ],
          "name": "stdout"
        }
      ]
    },
    {
      "cell_type": "code",
      "metadata": {
        "colab": {
          "base_uri": "https://localhost:8080/"
        },
        "id": "EMC3QsZIxWB8",
        "outputId": "d3aa86de-f24d-4328-c2c6-55f30b4c3827"
      },
      "source": [
        "speed = 64\n",
        "limit = 55\n",
        "fine = 5\n",
        "if speed <= limit:\n",
        "  print(\"Good job!\")\n",
        "else:\n",
        "  print(\"You owe $\", speed/fine)"
      ],
      "execution_count": 4,
      "outputs": [
        {
          "output_type": "stream",
          "text": [
            "You owe $ 12.8\n"
          ],
          "name": "stdout"
        }
      ]
    }
  ]
}